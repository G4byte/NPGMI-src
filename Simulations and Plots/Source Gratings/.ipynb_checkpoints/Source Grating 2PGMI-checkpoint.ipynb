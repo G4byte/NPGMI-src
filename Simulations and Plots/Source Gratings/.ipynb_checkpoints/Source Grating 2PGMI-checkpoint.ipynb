{
 "cells": [
  {
   "cell_type": "code",
   "execution_count": 242,
   "id": "a2db4f2d-8693-4721-a0b4-395fe91bac96",
   "metadata": {},
   "outputs": [],
   "source": [
    "import numpy as np\n",
    "from numpy import sin, cos,exp,pi\n",
    "from time import process_time, time\n",
    "from scipy.optimize import curve_fit, least_squares\n",
    "from scipy.fft import fft,fftshift,fft2, fftfreq, ifft\n",
    "from scipy.signal import oaconvolve, medfilt2d\n",
    "\n",
    "from scipy.ndimage import rotate\n",
    "from scipy.interpolate import interp1d\n",
    "\n",
    "# import h5py\n",
    "from skimage.transform import radon\n",
    "from sklearn.metrics import r2_score\n",
    "import matplotlib.pyplot as plt\n",
    "from matplotlib.patches import Rectangle\n",
    "from matplotlib import transforms\n",
    "from PIL import Image, ImageFilter\n",
    "import joblib as jb\n",
    "import tifffile as tfl\n",
    "import os\n",
    "from IPython.display import clear_output\n",
    "import re\n",
    "import pandas as pd\n",
    "\n",
    "from astropy.io import fits"
   ]
  },
  {
   "cell_type": "code",
   "execution_count": 243,
   "id": "fda081d6-d2ba-4c37-9268-7824a957c5ac",
   "metadata": {},
   "outputs": [],
   "source": [
    "%run \"/Users/macprorac2/Documents/Gabriel Dima's Group/NPGMI-Library/NPGMI Update.ipynb\""
   ]
  },
  {
   "cell_type": "code",
   "execution_count": 244,
   "id": "f359acb9-8cd1-4b3b-85f4-952eace18862",
   "metadata": {},
   "outputs": [],
   "source": [
    "L = 8\n",
    "phi = np.array([pi/2])\n",
    "L1 = 4\n",
    "\n",
    "p = 2.4e-6\n",
    "# source_period = 200e-6\n",
    "\n",
    "# duty_vals = 1/np.array([10,4,2])\n",
    "\n",
    "\n",
    "polyspectrum = pd.read_excel(\"ng6_MCNP_spectrum.xlsx\").to_numpy().T\n",
    "polyspectrum[0]*=1e-9\n",
    "\n",
    "lam, plam = np.array([5e-10]), np.ones(1)\n",
    "# lam, plam = polyspectrum\n",
    "\n",
    "mt = 5\n",
    "x0 = np.array([0])\n",
    "\n",
    "\n",
    "\n",
    "camsize = 1.5e-2\n",
    "\n",
    "\n",
    "\n",
    "xbin = 1e-6\n",
    "ybin = 1e-6\n",
    "res = 100e-6\n",
    "slit = 100e-6\n",
    "dp2overlam = p**2/lam[np.argmax(plam)]\n",
    "\n",
    "\n",
    "# sgp_vals = Lsg * psg / dp2overlam / np.array([5,3,2,1, 1/0.9])\n",
    "sgp_vals = np.array([1.5,1])*L*lam[np.argmax(plam)]/p\n",
    "\n",
    "# sgp_vals = Lsg * psg / dp2overlam / np.array([5])\n",
    "# sgp_vals = np.arange(1,5,1)*1e-4\n",
    "\n",
    "d = np.linspace( 5, 18, 79)*1e-3\n",
    "\n",
    "\n",
    "G1sd = {\"p\":p, \"L1\": np.array([L1]), \"phi\":phi, \"mt\": mt, \"spectrum_spacing\":1}\n",
    "G1sd[\"L2\"] = d\n",
    "\n",
    "\n",
    "\n",
    "G2sd = {\"p\":p, \"L1\": G1sd[\"L1\"] +  G1sd[\"L2\"], \"phi\":phi, \"mt\": mt, \"spectrum_spacing\":1}\n",
    "G2sd[\"L2\"] = L - (G1sd[\"L1\"] + G1sd[\"L2\"])\n",
    "\n",
    "\n",
    "\n",
    "simapts = {\"G1\":RectGrating(G1sd),\"G2\":RectGrating(G2sd)}\n",
    "siminit = {\"lam\":lam, \"plam\": plam, \"sum_lam\":False,\"L\":L,\"d\":G1sd[\"L2\"],\"mt\":mt, \"source_period\":sgp_vals[-1],\"duty_cycle\": 0.9,\\\n",
    "            \"x\" : np.linspace(-camsize/2,camsize/2,int(camsize/xbin)+1),\"xbin\":xbin,\"ybin\":ybin,\"p\":p ,\"camsize\" : camsize ,\"convmode\" : \"valid\",\\\n",
    "            \"resx\": res,\"resy\": res, \"batches\" : 1000}\n"
   ]
  },
  {
   "cell_type": "code",
   "execution_count": 245,
   "id": "fa021a34-5038-4a4f-84bf-c5564f139b9a",
   "metadata": {},
   "outputs": [
    {
     "data": {
      "text/plain": [
       "841330"
      ]
     },
     "execution_count": 245,
     "metadata": {},
     "output_type": "execute_result"
    }
   ],
   "source": [
    "8330*101"
   ]
  },
  {
   "cell_type": "code",
   "execution_count": 246,
   "id": "f9baa0e1-71a4-42c7-a15f-47cae9a57eee",
   "metadata": {
    "tags": []
   },
   "outputs": [
    {
     "name": "stdout",
     "output_type": "stream",
     "text": [
      "8330\n",
      "841330\n",
      "1.1744768619537354 seconds\n"
     ]
    }
   ],
   "source": [
    "t0 = time()\n",
    "\n",
    "sim = PGMI(simapts,siminit)\n",
    "\n",
    "sim.propagate_to(\"G1\")\n",
    "sim.propagate_to(\"G2\")\n",
    "sim.generate_after(\"G2\")\n",
    "\n",
    "# contfit = sim.get_value(\"contrast\")\n",
    "\n",
    "contk = sim.get_value(\"contrast\")\n",
    "\n",
    "\n",
    "print(time() - t0, \"seconds\")\n",
    "\n",
    "\n"
   ]
  },
  {
   "cell_type": "code",
   "execution_count": 247,
   "id": "84217bcd-43b3-4913-a7cd-a9e78057a73c",
   "metadata": {},
   "outputs": [
    {
     "data": {
      "image/png": "[encoded data removed]",
      "text/plain": [
       "<Figure size 640x480 with 1 Axes>"
      ]
     },
     "metadata": {},
     "output_type": "display_data"
    }
   ],
   "source": [
    "plt.plot(sim.d*1e3,contfit)\n",
    "plt.plot(sim.d*1e3,contk)\n",
    "plt.vlines(p**2 * 1e3/lam, 0,0.9)\n",
    "\n",
    "plt.show()"
   ]
  },
  {
   "cell_type": "code",
   "execution_count": 101,
   "id": "e8e6017c-abb7-4148-b648-80baca60ad3a",
   "metadata": {
    "tags": []
   },
   "outputs": [
    {
     "ename": "NameError",
     "evalue": "name 'lamsg' is not defined",
     "output_type": "error",
     "traceback": [
      "\u001b[0;31m---------------------------------------------------------------------------\u001b[0m",
      "\u001b[0;31mNameError\u001b[0m                                 Traceback (most recent call last)",
      "Cell \u001b[0;32mIn[101], line 13\u001b[0m\n\u001b[1;32m      7\u001b[0m fitparamssgp50 \u001b[38;5;241m=\u001b[39m []\n\u001b[1;32m     12\u001b[0m \u001b[38;5;28;01mfor\u001b[39;00m sgp \u001b[38;5;129;01min\u001b[39;00m sgp_vals:\n\u001b[0;32m---> 13\u001b[0m     siminitsg \u001b[38;5;241m=\u001b[39m {\u001b[38;5;124m\"\u001b[39m\u001b[38;5;124mlam\u001b[39m\u001b[38;5;124m\"\u001b[39m:\u001b[43mlamsg\u001b[49m, \u001b[38;5;124m\"\u001b[39m\u001b[38;5;124mplam\u001b[39m\u001b[38;5;124m\"\u001b[39m: plamsg, \u001b[38;5;124m\"\u001b[39m\u001b[38;5;124mL\u001b[39m\u001b[38;5;124m\"\u001b[39m:Lsg,\u001b[38;5;124m\"\u001b[39m\u001b[38;5;124md\u001b[39m\u001b[38;5;124m\"\u001b[39m:G1sdsg[\u001b[38;5;124m\"\u001b[39m\u001b[38;5;124mL2\u001b[39m\u001b[38;5;124m\"\u001b[39m],\u001b[38;5;124m\"\u001b[39m\u001b[38;5;124mmt\u001b[39m\u001b[38;5;124m\"\u001b[39m:mt, \u001b[38;5;124m\"\u001b[39m\u001b[38;5;124mx\u001b[39m\u001b[38;5;124m\"\u001b[39m: np\u001b[38;5;241m.\u001b[39mlinspace(\u001b[38;5;241m0\u001b[39m,camsize,\u001b[38;5;28mint\u001b[39m(camsize\u001b[38;5;241m/\u001b[39mxbin) \u001b[38;5;241m+\u001b[39m \u001b[38;5;241m1\u001b[39m),\\\n\u001b[1;32m     14\u001b[0m                  \u001b[38;5;124m\"\u001b[39m\u001b[38;5;124mx0\u001b[39m\u001b[38;5;124m\"\u001b[39m : x0,\u001b[38;5;124m\"\u001b[39m\u001b[38;5;124mxbin\u001b[39m\u001b[38;5;124m\"\u001b[39m:xbin,\u001b[38;5;124m\"\u001b[39m\u001b[38;5;124mybin\u001b[39m\u001b[38;5;124m\"\u001b[39m:ybin,\u001b[38;5;124m\"\u001b[39m\u001b[38;5;124mpos\u001b[39m\u001b[38;5;124m\"\u001b[39m:np\u001b[38;5;241m.\u001b[39marray([[\u001b[38;5;241m0\u001b[39m],[\u001b[38;5;241m1\u001b[39m]]) ,\u001b[38;5;124m\"\u001b[39m\u001b[38;5;124mcamsize\u001b[39m\u001b[38;5;124m\"\u001b[39m : camsize ,\u001b[38;5;124m\"\u001b[39m\u001b[38;5;124mconvmode\u001b[39m\u001b[38;5;124m\"\u001b[39m : \u001b[38;5;124m\"\u001b[39m\u001b[38;5;124mvalid\u001b[39m\u001b[38;5;124m\"\u001b[39m,\\\n\u001b[1;32m     15\u001b[0m                  \u001b[38;5;124m\"\u001b[39m\u001b[38;5;124msource_period\u001b[39m\u001b[38;5;124m\"\u001b[39m:sgp, \u001b[38;5;124m\"\u001b[39m\u001b[38;5;124mduty_cycle\u001b[39m\u001b[38;5;124m\"\u001b[39m:duty_cycle,\u001b[38;5;124m\"\u001b[39m\u001b[38;5;124mres\u001b[39m\u001b[38;5;124m\"\u001b[39m: ressg, \u001b[38;5;124m\"\u001b[39m\u001b[38;5;124mbatches\u001b[39m\u001b[38;5;124m\"\u001b[39m : \u001b[38;5;241m5000\u001b[39m}\n\u001b[1;32m     17\u001b[0m     \u001b[38;5;28mprint\u001b[39m(sgp)\n\u001b[1;32m     18\u001b[0m     \u001b[38;5;28mprint\u001b[39m(duty_cycle)\n",
      "\u001b[0;31mNameError\u001b[0m: name 'lamsg' is not defined"
     ]
    }
   ],
   "source": [
    "t0 = time()\n",
    "\n",
    "duty_cycle = 0.5\n",
    "\n",
    "contsgp50 = []\n",
    "Isgp50 = []\n",
    "fitparamssgp50 = []\n",
    "\n",
    "\n",
    "\n",
    "\n",
    "for sgp in sgp_vals:\n",
    "    siminitsg = {\"lam\":lamsg, \"plam\": plamsg, \"L\":Lsg,\"d\":G1sdsg[\"L2\"],\"mt\":mt, \"x\": np.linspace(0,camsize,int(camsize/xbin) + 1),\\\n",
    "                 \"x0\" : x0,\"xbin\":xbin,\"ybin\":ybin,\"pos\":np.array([[0],[1]]) ,\"camsize\" : camsize ,\"convmode\" : \"valid\",\\\n",
    "                 \"source_period\":sgp, \"duty_cycle\":duty_cycle,\"res\": ressg, \"batches\" : 5000}\n",
    "   \n",
    "    print(sgp)\n",
    "    print(duty_cycle)\n",
    "    simsg = PGMI(simaptssg,siminitsg)\n",
    "    simsg.propagate_to(\"G1\")\n",
    "    simsg.propagate_to(\"G2\")\n",
    "    simsg.generate_after(\"G2\")\n",
    "    \n",
    "    contsgp50.append(simsg.get_value(\"contrast\"))\n",
    "    Isgp50.append(simsg.get_value(\"intensity\"))\n",
    "    fitparamssgp50.append(simsg.get_value(\"fitparams\"))\n",
    "    \n",
    "    \n",
    "    \n",
    "print(time() - t0, \"seconds\")\n"
   ]
  },
  {
   "cell_type": "code",
   "execution_count": null,
   "id": "98ae54b3-5add-4344-8ae4-01baef76cb19",
   "metadata": {},
   "outputs": [],
   "source": [
    "t0 = time()\n",
    "\n",
    "duty_cycle = 0.1\n",
    "\n",
    "contsgp10 = []\n",
    "Isgp10 = []\n",
    "fitparamssgp10 = []\n",
    "\n",
    "for sgp in sgp_vals:\n",
    "    siminitsg = {\"lam\":lamsg, \"plam\": plamsg, \"L\":Lsg,\"d\":G1sdsg[\"L2\"],\"mt\":mt, \"x\": np.linspace(0,camsize,int(camsize/xbin) + 1),\\\n",
    "                 \"x0\" : x0,\"xbin\":xbin,\"ybin\":ybin,\"pos\":np.array([[0],[1]]) ,\"camsize\" : camsize ,\"convmode\" : \"valid\",\\\n",
    "                 \"source_period\":sgp, \"duty_cycle\":duty_cycle,\"res\": ressg, \"batches\" : 5000}\n",
    "   \n",
    "    print(sgp)\n",
    "    print(duty_cycle)\n",
    "    simsg = PGMI(simaptssg,siminitsg)\n",
    "    simsg.propagate_to(\"G1\")\n",
    "    simsg.propagate_to(\"G2\")\n",
    "    simsg.generate_after(\"G2\")\n",
    "    \n",
    "    contsgp10.append(simsg.get_value(\"contrast\"))\n",
    "    Isgp10.append(simsg.get_value(\"intensity\"))\n",
    "    fitparamssgp10.append(simsg.get_value(\"fitparams\"))\n",
    "    \n",
    "print(time() - t0, \"seconds\")\n"
   ]
  },
  {
   "cell_type": "code",
   "execution_count": null,
   "id": "c1c0d5a2-20a4-4273-b215-9c8f1fa8753c",
   "metadata": {},
   "outputs": [],
   "source": [
    "fig, ax1 = plt.subplots(figsize = (18,12))\n",
    "dlamarr = np.array([2/3,1,4/3])*dp2overlam*1e3\n",
    "dlamlabels = [r\"$\\frac{2p^{2}}{3\\lambda_c}$\", r\"$\\frac{p^{2}}{\\lambda_c}$\", r\"$\\frac{4p^{2}}{3\\lambda_c}$\" ]\n",
    "\n",
    "ax1.set_prop_cycle(color = [\"blue\",\"blue\",\"black\"])\n",
    "\n",
    "ax1.plot(simsg.d*1e3, contsgp50[0], lw = 2, label = r\"DC = .5, $p_s = p_m \\,[d = \\frac{2p^{2}}{3\\lambda_c}]$\" % (sgp_vals[0] / (Lsg*psg/dp2overlam)) )\n",
    "ax1.plot(simsg.d*1e3, contsgp10[0], \"--\", lw = 2, label = r\"DC = .1, $p_s = p_m \\,[d = \\frac{2p^{2}}{3\\lambda_c}]$\" % (sgp_vals[0] / (Lsg*psg/dp2overlam)) )\n",
    "\n",
    "\n",
    "ax1.set_prop_cycle(color = [\"red\",\"red\",\"black\"])\n",
    "ax1.plot(simsg.d*1e3, contsgp50[1], lw = 2, label = r\"DC = .5, $p_s = p_m \\,[d = \\frac{p^{2}}{\\lambda_c}]$\" % (sgp_vals[1] / (Lsg*psg/dp2overlam)) )\n",
    "\n",
    "ax1.plot(simsg.d*1e3, contsgp10[1], \"--\", lw = 2, label = r\"DC = .1, $p_s = p_m \\,[d = \\frac{p^{2}}{\\lambda_c}]$\" % (sgp_vals[1] / (Lsg*psg/dp2overlam)) )\n",
    "\n",
    "ax1.plot(simsg.d*1e3, contenvel, lw = 2, label = r\"$%.f \\; \\mu m$ slit\" % (slitsg*1e6))\n",
    "\n",
    "\n",
    "ax1.set_xlabel(\"Separation Distance $d$\", fontsize = 30)\n",
    "ax1.set_ylabel(\"Contrast\", fontsize = 30)\n",
    "ax1.legend(fontsize = 12)\n",
    "\n",
    "\n",
    "[ax1.axvline(dlamarr[i], color = \"black\", ls = \"dotted\", label = dlamlabels[i]) for i in range(len(dlamarr))]\n",
    "\n",
    "ax1.tick_params(axis = \"x\", labelsize = 30)\n",
    "ax1.tick_params(axis = \"y\", labelsize = 20)\n",
    "\n",
    "ax1.set_xticks(dlamarr)\n",
    "ax1.set_xticklabels(dlamlabels)\n",
    "\n",
    "\n",
    "\n",
    "# fig.savefig(\"SourceGratingPolychromaticContrast.png\")\n",
    "plt.show()\n",
    "plt.close(fig)"
   ]
  }
 ],
 "metadata": {
  "kernelspec": {
   "display_name": "Python 3 (ipykernel)",
   "language": "python",
   "name": "python3"
  },
  "language_info": {
   "codemirror_mode": {
    "name": "ipython",
    "version": 3
   },
   "file_extension": ".py",
   "mimetype": "text/x-python",
   "name": "python",
   "nbconvert_exporter": "python",
   "pygments_lexer": "ipython3",
   "version": "3.10.9"
  }
 },
 "nbformat": 4,
 "nbformat_minor": 5
}
