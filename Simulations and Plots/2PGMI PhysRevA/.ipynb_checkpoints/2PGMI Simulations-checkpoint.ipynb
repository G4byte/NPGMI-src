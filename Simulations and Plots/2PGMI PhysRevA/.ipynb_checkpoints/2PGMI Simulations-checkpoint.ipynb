{
 "cells": [
  {
   "cell_type": "code",
   "execution_count": 1,
   "id": "b93d64a0-6645-44b0-91e7-514fed528121",
   "metadata": {},
   "outputs": [],
   "source": [
    "import numpy as np\n",
    "from numpy import sin, cos,exp,pi\n",
    "from time import process_time, time\n",
    "from scipy.optimize import curve_fit, least_squares\n",
    "from scipy.fft import fft,fftshift,fft2, fftfreq, ifft\n",
    "from scipy.signal import oaconvolve, medfilt2d\n",
    "\n",
    "from scipy.ndimage import rotate\n",
    "from scipy.interpolate import interp1d\n",
    "\n",
    "import h5py\n",
    "from skimage.transform import radon\n",
    "from sklearn.metrics import r2_score\n",
    "import matplotlib.pyplot as plt\n",
    "from matplotlib.patches import Rectangle\n",
    "from matplotlib import transforms\n",
    "from PIL import Image, ImageFilter\n",
    "import joblib as jb\n",
    "import tifffile as tfl\n",
    "import os\n",
    "from IPython.display import clear_output\n",
    "import re\n",
    "import pandas as pd"
   ]
  },
  {
   "cell_type": "code",
   "execution_count": 2,
   "id": "55e46478-b2b0-4e91-8002-cbc812f7bd7d",
   "metadata": {},
   "outputs": [],
   "source": [
    "%run \"C:\\Users\\gabri\\Documents\\Python Scripts\\NPGMI-Library\\NPGMI Base Code.ipynb\""
   ]
  },
  {
   "cell_type": "markdown",
   "id": "b9255ad4-108d-4346-89a2-5f22b7807123",
   "metadata": {},
   "source": [
    "### 2PGMI PhysRevA Data"
   ]
  },
  {
   "cell_type": "code",
   "execution_count": 3,
   "id": "7da70efb-b981-4279-9469-5f7b2bf6f175",
   "metadata": {},
   "outputs": [],
   "source": [
    "MONO_DATA = np.genfromtxt(\"mono_contrast_data.csv\", delimiter = \",\").T\n",
    "MONO_ERROR = abs(MONO_DATA[1] - (np.genfromtxt(\"mono_error.csv\", delimiter = \",\").T)[1])\n",
    "# BI_DATA = np.genfromtxt(\"bichromatic_from_paper.csv\", delimiter = \",\").T\n",
    "# BI_ERROR = abs(BI_DATA[1] - (np.genfromtxt(\"bi_error_paper.csv\", delimiter = \",\").T)[1])\n",
    "# POLY_DATA = np.genfromtxt(\"polychromatic_from_paper.csv\", delimiter = \",\").T\n",
    "# POLY_ERROR = abs(POLY_DATA[1] - (np.genfromtxt(\"poly_error_paper.csv\", delimiter = \",\").T)[1])"
   ]
  },
  {
   "cell_type": "markdown",
   "id": "8963953d-ff15-46b7-8b82-299ee2641602",
   "metadata": {},
   "source": [
    "### Simulations"
   ]
  },
  {
   "cell_type": "code",
   "execution_count": 6,
   "id": "d87e7b65-ca1c-4c6a-bf77-f615ca56e176",
   "metadata": {},
   "outputs": [],
   "source": [
    "p = 2.4e-6\n",
    "L1mono = 1.2\n",
    "L1bi = 1.73\n",
    "L1poly = 4.65\n",
    "\n",
    "# L0mono = -0.05\n",
    "L0mono = 0\n",
    "L0bi = 0.01\n",
    "L0poly = 0.44\n",
    "# d0 = {\"mono\": -0.75e-3, \"bi\": +0.8e-3, \"poly\": -0.38e-3}\n",
    "d0 = {\"mono\": 0, \"bi\":0, \"poly\": 0}\n",
    "\n",
    "\n",
    "Lmono = 2.99 - L0mono\n",
    "Lbi = 3.52 - L0bi\n",
    "Lpoly = 8.8 - L0poly\n",
    "\n",
    "\n",
    "polyspectrum = pd.read_excel(\"ng6_MCNP_spectrum.xlsx\").to_numpy().T\n",
    "polyspectrum[0]*=1e-9\n",
    "\n",
    "lammono = np.array([4.4e-10])\n",
    "plammono = np.array([1])\n",
    "\n",
    "lambi = np.array([4.4e-10,2.2e-10])\n",
    "plambi = np.array([3.2/4.2,1/4.2])\n",
    "\n",
    "lampoly, plampoly = polyspectrum.copy()\n",
    "\n",
    "\n",
    "mt = 5\n",
    "x0 = np.array([0])\n",
    "\n",
    "Nbc = 5e28*4.149e-15\n",
    "h = 0.27*pi / (Nbc*4.4e-10)\n",
    "hpoly = 0.2*pi / (Nbc*5e-10)\n",
    "\n",
    "phimono = Nbc*lammono*h\n",
    "phibi = Nbc*lambi*h\n",
    "\n",
    "phipoly = Nbc*lampoly*hpoly\n",
    "\n",
    "\n",
    "camsize = 2.5e-2\n",
    "slitx = 230e-6\n",
    "# slitxrange = np.linspace(180,300,13)*1e-6\n",
    "slitxpoly = 590e-6\n",
    "# slitxpolyrange = np.linspace(450,600,16)*1e-6\n",
    "\n",
    "\n",
    "slity = 100e-6\n",
    "xbin = 1e-6\n",
    "ybin = 1e-6\n",
    "res = 100e-6\n",
    "respoly = 150e-6\n",
    "\n",
    "\n",
    "G1sdmono = {\"p\":p, \"L1\": np.array([L1mono]), \"phi\":phimono}\n",
    "G1sdmono[\"L2\"] = np.linspace(7,16,19)*1e-3 + d0[\"mono\"]\n",
    "\n",
    "\n",
    "G2sdmono = {\"p\":p, \"L1\": G1sdmono[\"L1\"] +  G1sdmono[\"L2\"], \"phi\":phimono}\n",
    "G2sdmono[\"L2\"] = Lmono - (G1sdmono[\"L1\"] + G1sdmono[\"L2\"])\n",
    "\n",
    "G1sdbi = {\"p\":p, \"L1\": np.array([L1bi]), \"phi\":phibi}\n",
    "G1sdbi[\"L2\"] = np.linspace(7,16,10)*1e-3 + d0[\"bi\"]\n",
    "\n",
    "\n",
    "G2sdbi = {\"p\":p, \"L1\": G1sdbi[\"L1\"] +  G1sdbi[\"L2\"], \"phi\":phibi}\n",
    "G2sdbi[\"L2\"] = Lbi - (G1sdbi[\"L1\"] + G1sdbi[\"L2\"])\n",
    "\n",
    "\n",
    "G1sdpoly = {\"p\":p, \"L1\": np.array([L1poly]), \"phi\":phipoly}\n",
    "G1sdpoly[\"L2\"] = np.linspace(7,16,10)*1e-3 + d0[\"poly\"]\n",
    "\n",
    "\n",
    "G2sdpoly = {\"p\":p, \"L1\": G1sdpoly[\"L1\"] +  G1sdpoly[\"L2\"], \"phi\":phipoly}\n",
    "G2sdpoly[\"L2\"] = Lpoly - (G1sdpoly[\"L1\"] + G1sdpoly[\"L2\"])\n",
    "\n",
    "\n",
    "# Ioff = np.linspace(-5000,5000,10)\n",
    "simaptsmono = {\"G1\":RectGrating(G1sdmono),\"G2\":RectGrating(G2sdmono)}\n",
    "siminitmono = {\"lam\":lammono, \"plam\": plammono, \"L\":Lmono,\"d\":G1sdmono[\"L2\"],\"mt\":mt, \"x\": np.linspace(0,camsize,int(camsize/xbin)),\"x0\" : x0,\"xbin\":xbin,\"ybin\":ybin,\\\n",
    "           \"pos\":np.array([[0],[1]]) ,\"camsize\" : camsize ,\"convmode\" : \"valid\", \"slitx\": slitx, \"slity\" : slity, \"res\": res, \"batches\" : 1000}\n",
    "\n",
    "simaptsbi = {\"G1\":RectGrating(G1sdbi),\"G2\":RectGrating(G2sdbi)}\n",
    "siminitbi = {\"lam\":lambi, \"plam\": plambi, \"L\":Lbi,\"d\":G1sdbi[\"L2\"],\"mt\":mt, \"x\": np.linspace(0,camsize,int(camsize/xbin)),\"x0\" : x0,\"xbin\":xbin,\"ybin\":ybin,\\\n",
    "           \"pos\":np.array([[0],[1]]) ,\"camsize\" : camsize ,\"convmode\" : \"valid\", \"slitx\": slitx, \"slity\" : slity, \"res\": res, \"batches\" : 1000}\n",
    "\n",
    "simaptspoly = {\"G1\":RectGrating(G1sdpoly),\"G2\":RectGrating(G2sdpoly)}\n",
    "siminitpoly = {\"lam\":lampoly, \"plam\": plampoly, \"L\":Lpoly,\"d\":G1sdpoly[\"L2\"],\"mt\":mt, \"x\": np.linspace(0,camsize,int(camsize/xbin)),\"x0\" : x0,\"xbin\":xbin,\"ybin\":ybin,\\\n",
    "           \"pos\":np.array([[0],[1]]) ,\"camsize\" : camsize ,\"convmode\" : \"valid\", \"slitx\": slitxpoly, \"slity\" : slity, \"res\": respoly, \"batches\" : 1000}\n"
   ]
  },
  {
   "cell_type": "code",
   "execution_count": 7,
   "id": "0c42b0ab-8d18-4f44-a06c-e7f485211bbf",
   "metadata": {},
   "outputs": [
    {
     "name": "stdout",
     "output_type": "stream",
     "text": [
      "(1000, 19, 25) after parallel\n",
      "(19, 25000) after reshape\n",
      "(19, 25000) before convolution\n",
      "Finding contrast\n",
      "23.015100955963135 seconds\n"
     ]
    }
   ],
   "source": [
    "t0 = time()\n",
    "\n",
    "simmono = PGMI(simaptsmono,siminitmono)\n",
    "simmono.propagate_to(\"G1\")\n",
    "simmono.propagate_to(\"G2\")\n",
    "simmono.generate_after(\"G2\")\n",
    "\n",
    "# simbi = PGMI(simaptsbi,siminitbi)\n",
    "# simbi.propagate_to(\"G1\")\n",
    "# simbi.propagate_to(\"G2\")\n",
    "# simbi.generate_after(\"G2\")\n",
    "\n",
    "# simpoly = PGMI(simaptspoly,siminitpoly)\n",
    "# simpoly.propagate_to(\"G1\")\n",
    "# simpoly.propagate_to(\"G2\")\n",
    "# simpoly.generate_after(\"G2\")\n",
    "\n",
    "print(time() - t0, \"seconds\")\n"
   ]
  },
  {
   "cell_type": "code",
   "execution_count": 8,
   "id": "0300fd04-5249-4067-8eaf-5e58f3580bdd",
   "metadata": {},
   "outputs": [],
   "source": [
    "monocont = simmono.get_value(\"contrast\")\n",
    "# bicont = simbi.get_value(\"contrast\")\n",
    "# polycont = simpoly.get_value(\"contrast\")\n",
    "\n",
    "# monofitparams = simmono.get_value(\"fitparams\")\n",
    "# bifitparams = simbi.get_value(\"fitparams\")\n",
    "# polyfitparams = simpoly.get_value(\"fitparams\")"
   ]
  },
  {
   "cell_type": "markdown",
   "id": "ee53fea6-c4b6-4ce5-8875-8074bac087d1",
   "metadata": {},
   "source": [
    "### Plots"
   ]
  },
  {
   "cell_type": "code",
   "execution_count": 9,
   "id": "5d26155b-7486-4a67-b399-28626b016619",
   "metadata": {},
   "outputs": [
    {
     "data": {
      "image/png": "[encoded data removed]",
      "text/plain": [
       "<Figure size 1200x800 with 1 Axes>"
      ]
     },
     "metadata": {},
     "output_type": "display_data"
    }
   ],
   "source": [
    "fig, ax1 = plt.subplots(figsize  = (12,8))\n",
    "\n",
    "colours = [\"red\",\"blue\", \"black\"]\n",
    "\n",
    "ax1.plot((simmono.d)*1e3, monocont, color = colours[0], label = r\"Monochromatic\")\n",
    "# ax1.plot((simbi.d -d0[\"bi\"])*1e3, bicont, color = colours[1], label = r\"Bichromatic\")\n",
    "\n",
    "# ax1.plot((simpoly.d-d0[\"poly\"] )*1e3, polycont, color = colours[2], label = r\"Polychromatic\")\n",
    "\n",
    "plt.gca().set_prop_cycle(None)\n",
    "\n",
    "ax1.errorbar(MONO_DATA[0],MONO_DATA[1],MONO_ERROR, fmt = \"ro\", elinewidth = 0.5,capsize = 5)\n",
    "# ax1.errorbar(BI_DATA[0]*1e3,BI_DATA[1],BI_ERROR, fmt = \"bo\", elinewidth = 0.5,capsize = 5)\n",
    "# ax1.errorbar(POLY_DATA[0]*1e3,POLY_DATA[1],POLY_ERROR, fmt = \"ko\", elinewidth = 0.5,capsize = 5)\n",
    "\n",
    "ax1.axvline((p**2/lammono )* 1e3, label = \"Predicted max\")\n",
    "\n",
    "ax1.legend(fontsize = 20, loc = \"upper right\")\n",
    "plt.xticks(fontsize = 20)\n",
    "plt.yticks(fontsize = 20)\n",
    "\n",
    "ax1.set_xlabel(\"Separation Distance $d$ [mm]\", fontsize = 30)\n",
    "ax1.set_ylabel(\"Contrast\", fontsize = 30)\n",
    "\n",
    "# ax1.set_title(\"Contrast vs. G1-G2 Separation, %d diffraction order%s\" % (mt, \"s\" if mt > 1 else \"\"))\n",
    "# fig.savefig(\"ContrastVsDfinal.png\")\n",
    "# ax1.set_xlim(0.55,9)\n",
    "# plt.grid()\n",
    "plt.show()\n",
    "plt.close(fig)"
   ]
  },
  {
   "cell_type": "code",
   "execution_count": 3,
   "id": "3577b20a-897c-4990-98fe-329b576d3dfc",
   "metadata": {},
   "outputs": [],
   "source": [
    "\n",
    "p = 180e-6\n",
    "L = 1.556\n",
    "\n",
    "lam = np.array([1550e-9])\n",
    "plam = np.array([1])\n",
    "\n",
    "\n",
    "\n",
    "x0 = np.array([0])\n",
    "\n",
    "\n",
    "\n",
    "mt = 5\n",
    "\n",
    "\n",
    "Nbc = 5e28*4.149e-15\n",
    "\n",
    "phi = np.array([pi/2])\n",
    "\n",
    "\n",
    "camsize = 2.5e-2\n",
    "# slitx = 500e-6\n",
    "# slity = 100e-6\n",
    "\n",
    "xbin = 1e-6\n",
    "ybin = 5e-6\n",
    "\n",
    "res = 3.75e-6\n",
    "\n",
    "\n",
    "d12 = np.linspace(37,39,101)*1e-2\n",
    "\n",
    "d23 = 38e-2\n",
    "d3c = 38e-2\n",
    "ds2 = L - d23 - d3c\n",
    "ds1 = ds2 - d12\n",
    "d2c = L - ds1 - d12\n",
    "\n",
    "\n",
    "\n",
    "G1sd = {\"p\":p, \"L1\": np.array([ds1]), \"phi\":phi}\n",
    "G1sd[\"L2\"] = d12\n",
    "\n",
    "G2sd = {\"p\":p, \"L1\": G1sd[\"L2\"] + G1sd[\"L1\"], \"phi\":phi}\n",
    "\n",
    "G2sd[\"L2\"] = d2c\n",
    "\n",
    "\n",
    "\n",
    "simaptsIR = {\"G1\":RectGrating(G1sd),\"G2\":RectGrating(G2sd)}\n",
    "\n",
    "siminit = {\"lam\":lam, \"plam\":plam, \"L\":L,\"d\":d12,\"mt\":mt, \"x\": np.linspace(0,camsize,int(camsize/xbin)),\"x0\" : x0,\"xbin\":xbin,\"ybin\":ybin ,\"pos\":np.array([[0],[1]]),\\\n",
    "           \"camsize\" : camsize ,\"convmode\" : \"valid\", \"res\": res, \"batches\" : 5000  }"
   ]
  },
  {
   "cell_type": "code",
   "execution_count": 4,
   "id": "831e5ace-ecbe-4c25-9396-0e76b7e8dac0",
   "metadata": {},
   "outputs": [
    {
     "name": "stdout",
     "output_type": "stream",
     "text": [
      "(5000, 101, 5) after parallel\n",
      "(101, 25000) after reshape\n",
      "(101, 25000) before convolution\n",
      "Finding contrast\n",
      "89.98731279373169 seconds\n"
     ]
    }
   ],
   "source": [
    "t0 = time()\n",
    "\n",
    "simIR = PGMI(simaptsIR, siminit)\n",
    "simIR.propagate_to(\"G1\")\n",
    "simIR.propagate_to(\"G2\")\n",
    "simIR.generate_after(\"G2\")\n",
    "print(time() - t0, \"seconds\")\n"
   ]
  },
  {
   "cell_type": "code",
   "execution_count": 61,
   "id": "d52ed3c4-19ab-4af1-8059-218c6782cb9a",
   "metadata": {},
   "outputs": [
    {
     "data": {
      "text/plain": [
       "array([0.37  , 0.3702, 0.3704, 0.3706, 0.3708, 0.371 , 0.3712, 0.3714,\n",
       "       0.3716, 0.3718, 0.372 , 0.3722, 0.3724, 0.3726, 0.3728, 0.373 ,\n",
       "       0.3732, 0.3734, 0.3736, 0.3738, 0.374 , 0.3742, 0.3744, 0.3746,\n",
       "       0.3748, 0.375 , 0.3752, 0.3754, 0.3756, 0.3758, 0.376 , 0.3762,\n",
       "       0.3764, 0.3766, 0.3768, 0.377 , 0.3772, 0.3774, 0.3776, 0.3778,\n",
       "       0.378 , 0.3782, 0.3784, 0.3786, 0.3788, 0.379 , 0.3792, 0.3794,\n",
       "       0.3796, 0.3798, 0.38  , 0.3802, 0.3804, 0.3806, 0.3808, 0.381 ,\n",
       "       0.3812, 0.3814, 0.3816, 0.3818, 0.382 , 0.3822, 0.3824, 0.3826,\n",
       "       0.3828, 0.383 , 0.3832, 0.3834, 0.3836, 0.3838, 0.384 , 0.3842,\n",
       "       0.3844, 0.3846, 0.3848, 0.385 , 0.3852, 0.3854, 0.3856, 0.3858,\n",
       "       0.386 , 0.3862, 0.3864, 0.3866, 0.3868, 0.387 , 0.3872, 0.3874,\n",
       "       0.3876, 0.3878, 0.388 , 0.3882, 0.3884, 0.3886, 0.3888, 0.389 ,\n",
       "       0.3892, 0.3894, 0.3896, 0.3898, 0.39  ])"
      ]
     },
     "execution_count": 61,
     "metadata": {},
     "output_type": "execute_result"
    }
   ],
   "source": [
    "d12"
   ]
  },
  {
   "cell_type": "code",
   "execution_count": 8,
   "id": "a6f2b37f-6872-4405-9e45-7363c4a1fe6b",
   "metadata": {},
   "outputs": [
    {
     "data": {
      "text/plain": [
       "array([0.75697297, 0.75656402, 0.75615551, 0.75574744, 0.75533981,\n",
       "       0.75493261, 0.75452586, 0.75411955, 0.75371367, 0.75330823,\n",
       "       0.75290323, 0.75249866, 0.75209452, 0.75169082, 0.75128755,\n",
       "       0.75088472, 0.75048232, 0.75008034, 0.7496788 , 0.74927769,\n",
       "       0.74887701, 0.74847675, 0.74807692, 0.74767752, 0.74727855,\n",
       "       0.74688   , 0.74648188, 0.74608418, 0.7456869 , 0.74529005,\n",
       "       0.74489362, 0.74449761, 0.74410202, 0.74370685, 0.7433121 ,\n",
       "       0.74291777, 0.74252386, 0.74213037, 0.74173729, 0.74134463,\n",
       "       0.74095238, 0.74056055, 0.74016913, 0.73977813, 0.73938754,\n",
       "       0.73899736, 0.73860759, 0.73821824, 0.73782929, 0.73744076,\n",
       "       0.73705263, 0.73666491, 0.7362776 , 0.7358907 , 0.7355042 ,\n",
       "       0.73511811, 0.73473242, 0.73434714, 0.73396226, 0.73357779,\n",
       "       0.73319372, 0.73281005, 0.73242678, 0.73204391, 0.73166144,\n",
       "       0.73127937, 0.7308977 , 0.73051643, 0.73013556, 0.72975508,\n",
       "       0.729375  , 0.72899531, 0.72861602, 0.72823713, 0.72785863,\n",
       "       0.72748052, 0.7271028 , 0.72672548, 0.72634855, 0.72597201,\n",
       "       0.72559585, 0.72522009, 0.72484472, 0.72446974, 0.72409514,\n",
       "       0.72372093, 0.72334711, 0.72297367, 0.72260062, 0.72222795,\n",
       "       0.72185567, 0.72148377, 0.72111226, 0.72074112, 0.72037037,\n",
       "       0.72      , 0.71963001, 0.7192604 , 0.71889117, 0.71852232,\n",
       "       0.71815385])"
      ]
     },
     "execution_count": 8,
     "metadata": {},
     "output_type": "execute_result"
    }
   ],
   "source": [
    "L*p/simIR.d*1e3"
   ]
  }
 ],
 "metadata": {
  "kernelspec": {
   "display_name": "Python 3 (ipykernel)",
   "language": "python",
   "name": "python3"
  },
  "language_info": {
   "codemirror_mode": {
    "name": "ipython",
    "version": 3
   },
   "file_extension": ".py",
   "mimetype": "text/x-python",
   "name": "python",
   "nbconvert_exporter": "python",
   "pygments_lexer": "ipython3",
   "version": "3.10.9"
  }
 },
 "nbformat": 4,
 "nbformat_minor": 5
}
